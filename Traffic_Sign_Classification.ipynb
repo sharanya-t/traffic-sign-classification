{
  "nbformat": 4,
  "nbformat_minor": 0,
  "metadata": {
    "colab": {
      "provenance": [],
      "collapsed_sections": []
    },
    "kernelspec": {
      "name": "python3",
      "display_name": "Python 3"
    },
    "language_info": {
      "name": "python"
    }
  },
  "cells": [
    {
      "cell_type": "markdown",
      "source": [
        "CLASSIFICATION OF TRAFFIC SIGNS USING LENET ARCHITECTURE IN KERAS"
      ],
      "metadata": {
        "id": "5NTINeKzsAqa"
      }
    },
    {
      "cell_type": "markdown",
      "source": [
        "STEP 0: PROBLEM STATEMENT"
      ],
      "metadata": {
        "id": "SOTQj01EdCJW"
      }
    },
    {
      "cell_type": "markdown",
      "source": [
        "- Images of traffic signs have been provided. Goal is to train a Deep Network to classify them.\n",
        "- The dataset contains 43 different classes of images\n",
        "- The classes are as follows:\n",
        "\n",
        "(0, b'Speed limit (20km/h)')\n",
        "(1, b'Speed limit (30km/h)')\n",
        "(2, b'Speed limit (50km/h)')\n",
        "(3, b'Speed limit (60km/h)')\n",
        "(4, b'Speed limit (70km/h)') \n",
        "(5, b'Speed limit (80km/h)') \n",
        "(6, b'End of speed limit (80km/h)')\n",
        "(7, b'Speed limit (100km/h)')\n",
        "(8, b'Speed limit (120km/h)')\n",
        "(9, b'No passing') \n",
        "(10, b'No passing for vehicles over 3.5 metric tons')\n",
        "(11, b'Right-of-way at the next intersection')\n",
        "(12, b'Priority road')\n",
        "(13, b'Yield')\n",
        "(14, b'Stop') \n",
        "(15, b'No vehicles')\n",
        "(16, b'Vehicles over 3.5 metric tons prohibited')\n",
        "(17, b'No entry')\n",
        "(18, b'General caution')\n",
        "(19, b'Dangerous curve to the left')\n",
        "(20, b'Dangerous curve to the right')\n",
        "(21, b'Double curve')\n",
        "(22, b'Bumpy road')\n",
        "(23, b'Slippery road')\n",
        "(24, b'Road narrows on the right')\n",
        "(25, b'Road work')\n",
        "(26, b'Traffic signals')\n",
        "(27, b'Pedestrians')\n",
        "(28, b'Children crossing')\n",
        "(29, b'Bicycles crossing')\n",
        "(30, b'Beware of ice/snow')\n",
        "(31, b'Wild animals crossing')\n",
        "(32, b'End of all speed and passing limits')\n",
        "(33, b'Turn right ahead')\n",
        "(34, b'Turn left ahead')\n",
        "(35, b'Ahead only')\n",
        "(36, b'Go straight or right')\n",
        "(37, b'Go straight or left')\n",
        "(38, b'Keep right')\n",
        "(39, b'Keep left')\n",
        "(40, b'Roundabout mandatory')\n",
        "(41, b'End of no passing')\n",
        "(42, b'End of no passing by vehicles over 3.5 metric tons')"
      ],
      "metadata": {
        "id": "pHtpfcSodE3F"
      }
    },
    {
      "cell_type": "markdown",
      "source": [
        "STEP 1: IMPORT LIBRARIES AND DATASET"
      ],
      "metadata": {
        "id": "ltId5xDedIg9"
      }
    },
    {
      "cell_type": "code",
      "source": [
        "import pandas as pd\n",
        "import numpy as np\n",
        "import matplotlib.pyplot as plt\n",
        "import seaborn as sns\n",
        "import pickle\n",
        "from google.colab import drive "
      ],
      "metadata": {
        "id": "1_ih569TsUCf"
      },
      "execution_count": null,
      "outputs": []
    },
    {
      "cell_type": "code",
      "source": [
        "drive.mount(\"/content/gdrive\")"
      ],
      "metadata": {
        "colab": {
          "base_uri": "https://localhost:8080/"
        },
        "id": "kBctoOG3YCAn",
        "outputId": "6aca95ad-cf8b-4874-e1ab-d88c18a4e5b1"
      },
      "execution_count": null,
      "outputs": [
        {
          "output_type": "stream",
          "name": "stdout",
          "text": [
            "Mounted at /content/gdrive\n"
          ]
        }
      ]
    },
    {
      "cell_type": "code",
      "source": [
        "with open('gdrive/My Drive/TrafficSignClassification/traffic-signs-data/train.p', mode ='rb') as training_data:\n",
        "  train = pickle.load(training_data)\n",
        "with open('gdrive/My Drive/TrafficSignClassification/traffic-signs-data/valid.p', mode ='rb') as validation_data:\n",
        "  valid = pickle.load(validation_data)\n",
        "with open('gdrive/My Drive/TrafficSignClassification/traffic-signs-data/test.p', mode ='rb') as testing_data:\n",
        "  test = pickle.load(testing_data)"
      ],
      "metadata": {
        "id": "h-uJECQiYKZE"
      },
      "execution_count": null,
      "outputs": []
    },
    {
      "cell_type": "code",
      "source": [
        "X_train, y_train = train['features'], train['labels']\n",
        "X_validation, y_validation = valid['features'], valid['labels']\n",
        "X_test, y_test = test['features'], test['labels']"
      ],
      "metadata": {
        "id": "jlaxLUZFY6en"
      },
      "execution_count": null,
      "outputs": []
    },
    {
      "cell_type": "code",
      "source": [
        "print(X_train.shape)\n",
        "print(y_train.shape)\n",
        "print(X_validation.shape)\n",
        "print(y_validation.shape)\n",
        "print(X_test.shape)\n",
        "print(y_test.shape)"
      ],
      "metadata": {
        "colab": {
          "base_uri": "https://localhost:8080/"
        },
        "id": "y6ouVGtGZPW5",
        "outputId": "229a6ddf-2e82-4845-dfe3-73b63f2cfd69"
      },
      "execution_count": null,
      "outputs": [
        {
          "output_type": "stream",
          "name": "stdout",
          "text": [
            "(34799, 32, 32, 3)\n",
            "(34799,)\n",
            "(4410, 32, 32, 3)\n",
            "(4410,)\n",
            "(12630, 32, 32, 3)\n",
            "(12630,)\n"
          ]
        }
      ]
    },
    {
      "cell_type": "markdown",
      "source": [
        "STEP 2: IMAGE EXPLORATION"
      ],
      "metadata": {
        "id": "ur3NFAisdMsr"
      }
    },
    {
      "cell_type": "code",
      "source": [
        "plt.imshow(X_train[34798])\n",
        "y_train[34798]"
      ],
      "metadata": {
        "colab": {
          "base_uri": "https://localhost:8080/",
          "height": 283
        },
        "id": "d3SauxKzZcwM",
        "outputId": "ac2ef365-010a-4316-bd6e-53b23a2f121c"
      },
      "execution_count": null,
      "outputs": [
        {
          "output_type": "execute_result",
          "data": {
            "text/plain": [
              "25"
            ]
          },
          "metadata": {},
          "execution_count": 14
        },
        {
          "output_type": "display_data",
          "data": {
            "text/plain": [
              "<Figure size 432x288 with 1 Axes>"
            ],
            "image/png": "[encoded data removed]"
          },
          "metadata": {
            "needs_background": "light"
          }
        }
      ]
    },
    {
      "cell_type": "markdown",
      "source": [
        "STEP 3: DATA PREPARATION"
      ],
      "metadata": {
        "id": "5pggkvF8dTls"
      }
    },
    {
      "cell_type": "code",
      "source": [
        "from sklearn.utils import shuffle\n",
        "X_train, y_train = shuffle(X_train, y_train)"
      ],
      "metadata": {
        "id": "aT4pbluXZ1Tf"
      },
      "execution_count": null,
      "outputs": []
    },
    {
      "cell_type": "code",
      "source": [
        "X_train_gray = np.sum(X_train/3, axis = 3, keepdims = True)\n",
        "X_test_gray = np.sum(X_test/3, axis = 3, keepdims = True)\n",
        "X_validation_gray = np.sum(X_validation/3, axis = 3, keepdims = True)"
      ],
      "metadata": {
        "id": "PYjAwNcPdWPJ"
      },
      "execution_count": null,
      "outputs": []
    },
    {
      "cell_type": "code",
      "source": [
        "print(X_train_gray.shape)\n",
        "print(X_test_gray.shape)\n",
        "print(X_validation_gray.shape)"
      ],
      "metadata": {
        "colab": {
          "base_uri": "https://localhost:8080/"
        },
        "id": "UFGndjIzddiy",
        "outputId": "b41f457e-fb6a-4fb1-c261-6706f394acf7"
      },
      "execution_count": null,
      "outputs": [
        {
          "output_type": "stream",
          "name": "stdout",
          "text": [
            "(34799, 32, 32, 1)\n",
            "(12630, 32, 32, 1)\n",
            "(4410, 32, 32, 1)\n"
          ]
        }
      ]
    },
    {
      "cell_type": "code",
      "source": [
        "X_train_gray_norm = (X_train_gray - 128)/128\n",
        "X_test_gray_norm = (X_test_gray - 128)/128\n",
        "X_validation_gray_norm = (X_validation_gray - 128)/128"
      ],
      "metadata": {
        "id": "BWOYEFd5dirq"
      },
      "execution_count": null,
      "outputs": []
    },
    {
      "cell_type": "code",
      "source": [
        "i = 1\n",
        "plt.imshow(X_train_gray[i].squeeze(), cmap = 'gray')\n",
        "plt.figure()\n",
        "plt.imshow(X_train[i])\n",
        "plt.figure()\n",
        "plt.imshow(X_train_gray_norm[i].squeeze(), cmap = 'gray')"
      ],
      "metadata": {
        "colab": {
          "base_uri": "https://localhost:8080/",
          "height": 781
        },
        "id": "Ix6tzf3xeKJQ",
        "outputId": "274e0e93-5730-4521-9853-6dc9b5bb2204"
      },
      "execution_count": null,
      "outputs": [
        {
          "output_type": "execute_result",
          "data": {
            "text/plain": [
              "<matplotlib.image.AxesImage at 0x7f058562a190>"
            ]
          },
          "metadata": {},
          "execution_count": 25
        },
        {
          "output_type": "display_data",
          "data": {
            "text/plain": [
              "<Figure size 432x288 with 1 Axes>"
            ],
            "image/png": "[encoded data removed]"
          },
          "metadata": {
            "needs_background": "light"
          }
        },
        {
          "output_type": "display_data",
          "data": {
            "text/plain": [
              "<Figure size 432x288 with 1 Axes>"
            ],
            "image/png": "[encoded data removed]"
          },
          "metadata": {
            "needs_background": "light"
          }
        },
        {
          "output_type": "display_data",
          "data": {
            "text/plain": [
              "<Figure size 432x288 with 1 Axes>"
            ],
            "image/png": "[encoded data removed]"
          },
          "metadata": {
            "needs_background": "light"
          }
        }
      ]
    },
    {
      "cell_type": "markdown",
      "source": [
        "STEP 4: MODEL TRAINING"
      ],
      "metadata": {
        "id": "1oR4-jYz82DN"
      }
    },
    {
      "cell_type": "markdown",
      "source": [
        "Step 1: THE FIRST CONVULTIONAL LAYER #1\n",
        "*   Input = 32x32x1\n",
        "*   Output = 28x28x6\n",
        "*   Output = (Input-Filter+1)/Stride = (32-5+1)/1 = 28\n",
        "*   Used a 5x5 filter with input depth of 3 and output depth of 6\n",
        "*   Apply RELU activation function to the output\n",
        "*   Pooling for input, Input = 28x28x6 and Output = 14x14x6\n",
        "\n",
        "(Stride is the amount by which the kernel is shifted when it is passed over the image)\n",
        "\n",
        "Step 2: THE SECOND CONVOLTIONAL LAYER #2\n",
        "*   Input = 14x14x6\n",
        "*   Output = 10x10x16\n",
        "*   Output = (Input-Filter+1)/Stride = (14-5+1)/1 = 10\n",
        "*   Apply RELU activation function to the output\n",
        "*   Pooling for input, Input = 10x10x16 and Output = 5x5x16\n",
        "\n",
        "Step 3: FLATTENING THE NETWORK\n",
        "*   Input = Flatten the network with Input = 5x5x16 and Output = 400\n",
        "\n",
        "Step 4: FULLY CONNECTED LAYER\n",
        "*   Layer 3: Fully connected layer with Input = 400 and Output = 120\n",
        "*   Apply RELU activation function to the output\n",
        "\n",
        "Step 5: FULLY CONNECTED LAYER\n",
        "*   Layer 4: Fully connected layer with Input = 120 and Output = 84\n",
        "*   Apply RELU activation function to the output\n",
        "\n",
        "Step 5: FULLY CONNECTED LAYER\n",
        "*   Layer 5: Fully connected layer with Input = 84 and Output = 43\n"
      ],
      "metadata": {
        "id": "1D2JT3c0Es_w"
      }
    },
    {
      "cell_type": "code",
      "source": [
        "from keras.models import Sequential\n",
        "from keras.layers import Conv2D, MaxPooling2D, AveragePooling2D, Dense, Flatten, Dropout\n",
        "from tensorflow.keras.optimizers import Adam\n",
        "from keras.callbacks import TensorBoard"
      ],
      "metadata": {
        "id": "zsMK8rHf84Pm"
      },
      "execution_count": null,
      "outputs": []
    },
    {
      "cell_type": "code",
      "source": [
        "cnn_model = Sequential()\n",
        "\n",
        "cnn_model.add(Conv2D(filters = 6, kernel_size=(5,5), activation = 'relu', input_shape=(32,32,1)))\n",
        "cnn_model.add(AveragePooling2D())\n",
        "\n",
        "cnn_model.add(Conv2D(filters = 16, kernel_size=(5,5), activation = 'relu'))\n",
        "cnn_model.add(AveragePooling2D())\n",
        "\n",
        "cnn_model.add(Flatten())\n",
        "\n",
        "cnn_model.add(Dense(units = 120, activation = 'relu'))\n",
        "\n",
        "cnn_model.add(Dense(units = 84, activation = 'relu'))\n",
        "\n",
        "cnn_model.add(Dense(units = 43, activation = 'softmax'))"
      ],
      "metadata": {
        "id": "sdblLT3pCSlN"
      },
      "execution_count": null,
      "outputs": []
    },
    {
      "cell_type": "code",
      "source": [
        "cnn_model.compile(loss = 'sparse_categorical_crossentropy', optimizer = Adam(learning_rate = 0.001), metrics = ['accuracy'])"
      ],
      "metadata": {
        "id": "bo1vCxiGCzTE"
      },
      "execution_count": null,
      "outputs": []
    },
    {
      "cell_type": "code",
      "source": [
        "history = cnn_model.fit(X_train_gray_norm,\n",
        "              y_train,\n",
        "              batch_size = 500,\n",
        "              epochs = 5,\n",
        "              verbose = 1,\n",
        "              validation_data = (X_validation_gray_norm, y_validation))"
      ],
      "metadata": {
        "colab": {
          "base_uri": "https://localhost:8080/"
        },
        "id": "FfrqcjgML3JN",
        "outputId": "9827dcbf-0744-4f47-c743-e9a0a99e97ff"
      },
      "execution_count": null,
      "outputs": [
        {
          "output_type": "stream",
          "name": "stdout",
          "text": [
            "Epoch 1/5\n",
            "70/70 [==============================] - 18s 249ms/step - loss: 0.4362 - accuracy: 0.8817 - val_loss: 0.6311 - val_accuracy: 0.8118\n",
            "Epoch 2/5\n",
            "70/70 [==============================] - 15s 213ms/step - loss: 0.3652 - accuracy: 0.9039 - val_loss: 0.6101 - val_accuracy: 0.8179\n",
            "Epoch 3/5\n",
            "70/70 [==============================] - 15s 212ms/step - loss: 0.3196 - accuracy: 0.9174 - val_loss: 0.5705 - val_accuracy: 0.8388\n",
            "Epoch 4/5\n",
            "70/70 [==============================] - 15s 213ms/step - loss: 0.2863 - accuracy: 0.9265 - val_loss: 0.5612 - val_accuracy: 0.8395\n",
            "Epoch 5/5\n",
            "70/70 [==============================] - 16s 223ms/step - loss: 0.2514 - accuracy: 0.9364 - val_loss: 0.5496 - val_accuracy: 0.8417\n"
          ]
        }
      ]
    },
    {
      "cell_type": "markdown",
      "source": [
        "STEP 5: MODEL EVALUATION"
      ],
      "metadata": {
        "id": "djFZCIFBODdZ"
      }
    },
    {
      "cell_type": "code",
      "source": [],
      "metadata": {
        "id": "ziiyurVXOG7A"
      },
      "execution_count": null,
      "outputs": []
    }
  ]
}